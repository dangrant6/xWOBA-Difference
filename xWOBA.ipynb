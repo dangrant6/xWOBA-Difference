{
 "cells": [
  {
   "cell_type": "code",
   "execution_count": 1,
   "metadata": {},
   "outputs": [],
   "source": [
    "import pandas as pd\n",
    "from sklearn.ensemble import RandomForestRegressor\n",
    "from sklearn.model_selection import train_test_split\n",
    "from sklearn.metrics import mean_squared_error"
   ]
  },
  {
   "cell_type": "code",
   "execution_count": 2,
   "metadata": {},
   "outputs": [],
   "source": [
    "runners_on = pd.read_csv('2022 Runners.csv')\n",
    "runners_off = pd.read_csv('2022 No Runners.csv')\n",
    "\n",
    "newdata = pd.merge(runners_on, runners_off, on='player_name', suffixes=('_x','_y'))\n",
    "newdata['xwobadifference'] = newdata['xwoba_x'] - newdata['xwoba_y']\n"
   ]
  },
  {
   "attachments": {},
   "cell_type": "markdown",
   "metadata": {},
   "source": [
    "# Only using pitchers with more than 500 pitches"
   ]
  },
  {
   "cell_type": "code",
   "execution_count": 3,
   "metadata": {},
   "outputs": [],
   "source": [
    "filtered_data = newdata[(newdata['total_pitches_x'] > 500) & (newdata['total_pitches_y'] > 500)]\n",
    "X = filtered_data[['total_pitches_x', 'total_pitches_y']]\n",
    "y = filtered_data['xwobadifference']\n",
    "X_train, X_test, y_train, y_test = train_test_split(X, y, test_size=0.2, random_state=42)\n",
    "model = RandomForestRegressor()\n",
    "model.fit(X_train, y_train)\n",
    "y_pred = model.predict(X_test)"
   ]
  },
  {
   "cell_type": "code",
   "execution_count": 7,
   "metadata": {},
   "outputs": [
    {
     "name": "stdout",
     "output_type": "stream",
     "text": [
      "RandomForestRegressor()\n"
     ]
    }
   ],
   "source": [
    "new_pitches_x = [600, 550, 700]\n",
    "new_pitches_y = [500, 600, 450]\n",
    "new_data = pd.DataFrame({'total_pitches_x': new_pitches_x, 'total_pitches_y': new_pitches_y})\n",
    "predictions = model.predict(new_data)"
   ]
  },
  {
   "cell_type": "code",
   "execution_count": 5,
   "metadata": {},
   "outputs": [
    {
     "name": "stdout",
     "output_type": "stream",
     "text": [
      "Prediction 1 : 0.009139999999999975\n",
      "Prediction 2 : 0.00413\n",
      "Prediction 3 : -0.01598999999999999\n",
      "Root Mean Squared Error (RMSE): 0.03476552997141779\n"
     ]
    }
   ],
   "source": [
    "rmse = mean_squared_error(y_test, y_pred, squared=False)\n",
    "for i in range(len(predictions)):\n",
    "    print(\"Prediction\", i+1, \":\", predictions[i])\n",
    "print(\"Root Mean Squared Error (RMSE):\", rmse)"
   ]
  },
  {
   "attachments": {},
   "cell_type": "markdown",
   "metadata": {},
   "source": [
    "# List of top pitchers"
   ]
  },
  {
   "cell_type": "code",
   "execution_count": 6,
   "metadata": {},
   "outputs": [
    {
     "name": "stdout",
     "output_type": "stream",
     "text": [
      "Top 10 pitchers based on xwobadifference:\n",
      "Kopech, Michael\n",
      "Plesac, Zach\n",
      "Wells, Tyler\n",
      "Fedde, Erick\n",
      "Strider, Spencer\n",
      "Lodolo, Nick\n",
      "Civale, Aaron\n",
      "Houser, Adrian\n",
      "Bradish, Kyle\n",
      "Mahle, Tyler\n"
     ]
    }
   ],
   "source": [
    "sorted_data = filtered_data.sort_values(by='xwobadifference', ascending=False)\n",
    "top_pitchers = sorted_data.head(10)['player_name']\n",
    "print(\"Top 10 pitchers based on xwobadifference:\")\n",
    "for pitcher in top_pitchers:\n",
    "    print(pitcher)"
   ]
  }
 ],
 "metadata": {
  "kernelspec": {
   "display_name": "xwoba",
   "language": "python",
   "name": "python3"
  },
  "language_info": {
   "codemirror_mode": {
    "name": "ipython",
    "version": 3
   },
   "file_extension": ".py",
   "mimetype": "text/x-python",
   "name": "python",
   "nbconvert_exporter": "python",
   "pygments_lexer": "ipython3",
   "version": "3.11.3"
  },
  "orig_nbformat": 4
 },
 "nbformat": 4,
 "nbformat_minor": 2
}
